{
 "cells": [
  {
   "cell_type": "markdown",
   "metadata": {},
   "source": [
    "# **Convolution Neural Network (CNN)**"
   ]
  },
  {
   "cell_type": "code",
   "execution_count": 2,
   "metadata": {},
   "outputs": [],
   "source": [
    "import numpy as np\n",
    "\n",
    "\n",
    "def convolution_layer(\n",
    "    input_matrix: np.array, filter_matrix: np.array, stride: int, padding: str = \"valid\"\n",
    ") -> np.array:\n",
    "    \"\"\"\n",
    "    Convolutional layer\n",
    "    :param input_matrix: 2D numpy array\n",
    "    :param filter_matrix: 2D numpy array\n",
    "    :param stride: int\n",
    "    :param padding: str\n",
    "    :return: 2D numpy array\n",
    "    \"\"\"\n",
    "    # Get the dimensions of the input matrix and the filter matrix\n",
    "    input_rows, input_cols = input_matrix.shape\n",
    "    filter_rows, filter_cols = filter_matrix.shape\n",
    "\n",
    "    # Check if the padding is valid\n",
    "    if padding == \"valid\":\n",
    "        # Calculate the output dimensions\n",
    "        output_rows = (input_rows - filter_rows) // stride + 1\n",
    "        output_cols = (input_cols - filter_cols) // stride + 1\n",
    "\n",
    "        # Initialize the output matrix\n",
    "        output_matrix = np.zeros((output_rows, output_cols))\n",
    "\n",
    "        # Iterate over the input matrix\n",
    "        for i in range(0, output_rows):\n",
    "            for j in range(0, output_cols):\n",
    "                output_matrix[i, j] = np.sum(\n",
    "                    input_matrix[\n",
    "                        i * stride : i * stride + filter_rows,\n",
    "                        j * stride : j * stride + filter_cols,\n",
    "                    ]\n",
    "                    * filter_matrix\n",
    "                )\n",
    "\n",
    "    elif padding == \"same\":\n",
    "        # Calculate the output dimensions\n",
    "        output_rows = input_rows\n",
    "        output_cols = input_cols\n",
    "\n",
    "        # Calculate the padding\n",
    "        pad_rows = int(\n",
    "            np.ceil(((output_rows - 1) * stride + filter_rows - input_rows) / 2)\n",
    "        )\n",
    "        pad_cols = int(\n",
    "            np.ceil(((output_cols - 1) * stride + filter_cols - input_cols) / 2)\n",
    "        )\n",
    "\n",
    "        # Pad the input matrix\n",
    "        input_matrix = np.pad(\n",
    "            input_matrix, ((pad_rows, pad_rows), (pad_cols, pad_cols)), mode=\"constant\"\n",
    "        )\n",
    "\n",
    "        # Initialize the output matrix\n",
    "        output_matrix = np.zeros((output_rows, output_cols))\n",
    "\n",
    "        # Iterate over the input matrix\n",
    "        for i in range(0, output_rows):\n",
    "            for j in range(0, output_cols):\n",
    "                output_matrix[i, j] = np.sum(\n",
    "                    input_matrix[\n",
    "                        i * stride : i * stride + filter_rows,\n",
    "                        j * stride : j * stride + filter_cols,\n",
    "                    ]\n",
    "                    * filter_matrix\n",
    "                )\n",
    "\n",
    "    return output_matrix"
   ]
  },
  {
   "cell_type": "code",
   "execution_count": 3,
   "metadata": {},
   "outputs": [
    {
     "name": "stdout",
     "output_type": "stream",
     "text": [
      "[[ 7. 11.]\n",
      " [23. 27.]]\n"
     ]
    }
   ],
   "source": [
    "# test\n",
    "input_matrix = np.array([[1, 2, 3, 4], [5, 6, 7, 8], [9, 10, 11, 12], [13, 14, 15, 16]])\n",
    "filter_matrix = np.array([[1, 0], [0, 1]])\n",
    "\n",
    "print(convolution_layer(input_matrix, filter_matrix, 2, \"valid\"))"
   ]
  },
  {
   "cell_type": "code",
   "execution_count": 4,
   "metadata": {},
   "outputs": [
    {
     "name": "stdout",
     "output_type": "stream",
     "text": [
      "[[30. 35.]\n",
      " [50. 55.]]\n"
     ]
    }
   ],
   "source": [
    "# Input\n",
    "input_matrix = np.array([[1, 2, 3, 4], [5, 6, 7, 8], [9, 10, 11, 12], [13, 14, 15, 16]])\n",
    "filter_matrix = np.array([[1, 0, 1], [0, 1, 0], [1, 0, 1]])\n",
    "\n",
    "print(convolution_layer(input_matrix, filter_matrix, 1, \"valid\"))"
   ]
  },
  {
   "cell_type": "code",
   "execution_count": 5,
   "metadata": {},
   "outputs": [
    {
     "name": "stdout",
     "output_type": "stream",
     "text": [
      "[[ 7. 14. 17. 11.]\n",
      " [17. 30. 35. 22.]\n",
      " [15. 22. 25. 19.]]\n"
     ]
    }
   ],
   "source": [
    "# Use padding\n",
    "input_matrix = np.array([[1, 2, 3, 4], [5, 6, 7, 8], [9, 10, 11, 12]])\n",
    "filter_matrix = np.array([[1, 0, 1], [0, 1, 0], [1, 0, 1]])\n",
    "\n",
    "print(convolution_layer(input_matrix, filter_matrix, 1, \"same\"))"
   ]
  },
  {
   "cell_type": "code",
   "execution_count": 6,
   "metadata": {},
   "outputs": [
    {
     "name": "stdout",
     "output_type": "stream",
     "text": [
      "[[ 3. -2.  0.]\n",
      " [ 5.  2.  0.]\n",
      " [ 3.  1.  1.]]\n"
     ]
    }
   ],
   "source": [
    "# Use padding\n",
    "input_matrix = np.array(\n",
    "    [\n",
    "        [1, 2, 0, 1, 3],\n",
    "        [4, 1, 0, 2, 1],\n",
    "        [0, 3, 1, 0, 2],\n",
    "        [2, 1, 0, 3, 1],\n",
    "        [1, 2, 4, 0, 3],\n",
    "    ]\n",
    ")\n",
    "filter_matrix = np.array([[1, 0, -1], [0, 1, 0], [-1, 0, 1]])\n",
    "\n",
    "print(convolution_layer(input_matrix, filter_matrix, 1, \"valid\"))"
   ]
  },
  {
   "cell_type": "code",
   "execution_count": 7,
   "metadata": {},
   "outputs": [],
   "source": [
    "def pooling_layer(\n",
    "    input_matrix: np.array,\n",
    "    pool_size: int,\n",
    "    stride: int,\n",
    "    padding: str = \"valid\",\n",
    "    mode=\"average\",\n",
    ") -> np.array:\n",
    "    \"\"\"\n",
    "    Pooling layer\n",
    "    :param input_matrix: 2D numpy array\n",
    "    :param pool_size: int\n",
    "    :param stride: int\n",
    "    :param padding: str\n",
    "    :param mode: str\n",
    "    :return: 2D numpy array\n",
    "    \"\"\"\n",
    "    # Get the dimensions of the input matrix\n",
    "    input_rows, input_cols = input_matrix.shape\n",
    "\n",
    "    # Check if the padding is valid\n",
    "    if padding == \"valid\":\n",
    "        # Calculate the output dimensions\n",
    "        output_rows = (input_rows - pool_size) // stride + 1\n",
    "        output_cols = (input_cols - pool_size) // stride + 1\n",
    "\n",
    "        # Initialize the output matrix\n",
    "        output_matrix = np.zeros((output_rows, output_cols))\n",
    "\n",
    "        # Iterate over the input matrix\n",
    "        for i in range(0, output_rows):\n",
    "            for j in range(0, output_cols):\n",
    "                if mode == \"max\":\n",
    "                    output_matrix[i, j] = np.max(\n",
    "                        input_matrix[\n",
    "                            i * stride : i * stride + pool_size,\n",
    "                            j * stride : j * stride + pool_size,\n",
    "                        ]\n",
    "                    )\n",
    "                elif mode == \"average\":\n",
    "                    output_matrix[i, j] = np.mean(\n",
    "                        input_matrix[\n",
    "                            i * stride : i * stride + pool_size,\n",
    "                            j * stride : j * stride + pool_size,\n",
    "                        ]\n",
    "                    )\n",
    "\n",
    "    elif padding == \"same\":\n",
    "        # Calculate the output dimensions\n",
    "        output_rows = input_rows\n",
    "        output_cols = input_cols\n",
    "\n",
    "        # Calculate the padding\n",
    "        pad_rows = int(\n",
    "            np.ceil(((output_rows - 1) * stride + pool_size - input_rows) / 2)\n",
    "        )\n",
    "        pad_cols = int(\n",
    "            np.ceil(((output_cols - 1) * stride + pool_size - input_cols) / 2)\n",
    "        )\n",
    "\n",
    "        # Pad the input matrix\n",
    "        input_matrix = np.pad(\n",
    "            input_matrix, ((pad_rows, pad_rows), (pad_cols, pad_cols)), mode=\"constant\"\n",
    "        )\n",
    "\n",
    "        # Initialize the output matrix\n",
    "        output_matrix = np.zeros((output_rows, output_cols))\n",
    "\n",
    "        # Iterate over the input matrix\n",
    "        for i in range(0, output_rows):\n",
    "            for j in range(0, output_cols):\n",
    "                if mode == \"max\":\n",
    "                    output_matrix[i, j] = np.max(\n",
    "                        input_matrix[\n",
    "                            i * stride : i * stride + pool_size,\n",
    "                            j * stride : j * stride + pool_size,\n",
    "                        ]\n",
    "                    )\n",
    "                elif mode == \"average\":\n",
    "                    output_matrix[i, j] = np.mean(\n",
    "                        input_matrix[\n",
    "                            i * stride : i * stride + pool_size,\n",
    "                            j * stride : j * stride + pool_size,\n",
    "                        ]\n",
    "                    )\n",
    "\n",
    "    return output_matrix"
   ]
  },
  {
   "cell_type": "code",
   "execution_count": 8,
   "metadata": {},
   "outputs": [
    {
     "name": "stdout",
     "output_type": "stream",
     "text": [
      "[[ 1.  2.  3.  4.]\n",
      " [ 5.  6.  7.  8.]\n",
      " [ 9. 10. 11. 12.]]\n"
     ]
    }
   ],
   "source": [
    "# test\n",
    "input_matrix = np.array([[1, 2, 3, 4], [5, 6, 7, 8], [9, 10, 11, 12]])\n",
    "\n",
    "print(pooling_layer(input_matrix, 2, 1, \"same\", \"max\"))"
   ]
  },
  {
   "cell_type": "code",
   "execution_count": 9,
   "metadata": {},
   "outputs": [
    {
     "name": "stdout",
     "output_type": "stream",
     "text": [
      "[[3.5 4.5 5.5]\n",
      " [7.5 8.5 9.5]]\n"
     ]
    }
   ],
   "source": [
    "print(pooling_layer(input_matrix, 2, 1, \"valid\", \"average\"))"
   ]
  },
  {
   "cell_type": "markdown",
   "metadata": {},
   "source": [
    "HW: Re-implement the CNN function in this notebook."
   ]
  }
 ],
 "metadata": {
  "kernelspec": {
   "display_name": "christ",
   "language": "python",
   "name": "python3"
  },
  "language_info": {
   "codemirror_mode": {
    "name": "ipython",
    "version": 3
   },
   "file_extension": ".py",
   "mimetype": "text/x-python",
   "name": "python",
   "nbconvert_exporter": "python",
   "pygments_lexer": "ipython3",
   "version": "3.11.8"
  }
 },
 "nbformat": 4,
 "nbformat_minor": 2
}
